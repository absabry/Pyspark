{
 "cells": [
  {
   "cell_type": "markdown",
   "metadata": {
    "colab_type": "text",
    "id": "view-in-github"
   },
   "source": [
    "<a href=\"https://colab.research.google.com/github/absabry/Pyspark-tutorial/blob/master/2.%20schemas.ipynb\" target=\"_parent\"><img src=\"https://colab.research.google.com/assets/colab-badge.svg\" alt=\"Open In Colab\"/></a>"
   ]
  },
  {
   "cell_type": "markdown",
   "metadata": {
    "colab_type": "text",
    "id": "8qf-TmnsBgXd"
   },
   "source": [
    "# Using Schemas"
   ]
  },
  {
   "cell_type": "markdown",
   "metadata": {
    "colab_type": "text",
    "id": "FEuEkV0BlzAD"
   },
   "source": [
    "## Check for JAVA_HOME"
   ]
  },
  {
   "cell_type": "code",
   "execution_count": 6,
   "metadata": {
    "ExecuteTime": {
     "end_time": "2019-03-09T11:50:27.898690Z",
     "start_time": "2019-03-09T11:50:27.893650Z"
    }
   },
   "outputs": [
    {
     "name": "stdout",
     "output_type": "stream",
     "text": [
      "/usr/lib/jvm/java-8-openjdk-amd64/Library/Java/JavaVirtualMachines/jdk1.8.0_202.jdk/Contents/Home\n"
     ]
    }
   ],
   "source": [
    "import os\n",
    "print(os.getenv(\"JAVA_HOME\")) # check for the correct java version (should be 1.8 for using spark)"
   ]
  },
  {
   "cell_type": "code",
   "execution_count": 16,
   "metadata": {
    "ExecuteTime": {
     "end_time": "2019-03-09T14:08:05.514216Z",
     "start_time": "2019-03-09T14:08:05.498135Z"
    },
    "colab": {
     "base_uri": "https://localhost:8080/",
     "height": 216
    },
    "colab_type": "code",
    "id": "sdOOq4twHN1K",
    "outputId": "a3d0026c-5750-4547-fcad-b01a7004dee8"
   },
   "outputs": [],
   "source": [
    "import findspark\n",
    "findspark.init()\n",
    "from pyspark import SparkContext\n",
    "sc = SparkContext.getOrCreate()\n",
    "\n",
    "import pyspark\n",
    "from pyspark.sql import SparkSession\n",
    "spark = SparkSession.builder.getOrCreate() "
   ]
  },
  {
   "cell_type": "code",
   "execution_count": 2,
   "metadata": {
    "ExecuteTime": {
     "end_time": "2019-03-09T13:08:42.055099Z",
     "start_time": "2019-03-09T13:08:41.488223Z"
    },
    "colab": {},
    "colab_type": "code",
    "id": "YuuXPh7anBCe"
   },
   "outputs": [],
   "source": [
    "import pandas as pd"
   ]
  },
  {
   "cell_type": "markdown",
   "metadata": {
    "colab_type": "text",
    "id": "0ysUlfFrN5OD"
   },
   "source": [
    "## Preprocessing Chicago's Reported Crime Data using Pandas and Spark"
   ]
  },
  {
   "cell_type": "code",
   "execution_count": 12,
   "metadata": {
    "ExecuteTime": {
     "end_time": "2019-03-09T13:15:22.985080Z",
     "start_time": "2019-03-09T13:15:21.675780Z"
    },
    "colab": {
     "base_uri": "https://localhost:8080/",
     "height": 224
    },
    "colab_type": "code",
    "id": "9-1cK0nPNS95",
    "outputId": "f80951f5-e2fb-4a70-d9c5-d12f229da47b"
   },
   "outputs": [],
   "source": [
    "from pyspark.sql.functions import to_timestamp,col\n",
    "rc = spark.read.csv('Crimes.csv',header=True).withColumn('Date',to_timestamp(col('Date'),'MM/dd/yyyy hh:mm:ss a'))"
   ]
  },
  {
   "cell_type": "code",
   "execution_count": 15,
   "metadata": {
    "ExecuteTime": {
     "end_time": "2019-03-09T13:16:31.165219Z",
     "start_time": "2019-03-09T13:16:27.149797Z"
    }
   },
   "outputs": [
    {
     "data": {
      "text/plain": [
       "6820155"
      ]
     },
     "execution_count": 15,
     "metadata": {},
     "output_type": "execute_result"
    }
   ],
   "source": [
    "rc.count()"
   ]
  },
  {
   "cell_type": "code",
   "execution_count": 13,
   "metadata": {
    "ExecuteTime": {
     "end_time": "2019-03-09T13:16:08.269730Z",
     "start_time": "2019-03-09T13:15:30.640195Z"
    },
    "colab": {
     "base_uri": "https://localhost:8080/",
     "height": 352
    },
    "colab_type": "code",
    "id": "xM-R4aESm9rW",
    "outputId": "b2e14f87-306e-4f6a-b5e1-05553b9d82d7"
   },
   "outputs": [],
   "source": [
    "data_pd = pd.read_csv('Crimes.csv')"
   ]
  },
  {
   "cell_type": "code",
   "execution_count": 14,
   "metadata": {
    "ExecuteTime": {
     "end_time": "2019-03-09T13:16:23.082520Z",
     "start_time": "2019-03-09T13:16:23.071982Z"
    }
   },
   "outputs": [
    {
     "data": {
      "text/plain": [
       "(6820155, 22)"
      ]
     },
     "execution_count": 14,
     "metadata": {},
     "output_type": "execute_result"
    }
   ],
   "source": [
    "data_pd.shape"
   ]
  },
  {
   "cell_type": "markdown",
   "metadata": {
    "colab_type": "text",
    "id": "7FKdw9oEn4Nz"
   },
   "source": [
    "#### Trying different ways of getting data from spark dataframe"
   ]
  },
  {
   "cell_type": "code",
   "execution_count": null,
   "metadata": {
    "colab": {
     "base_uri": "https://localhost:8080/",
     "height": 122
    },
    "colab_type": "code",
    "id": "797mJmHum9uF",
    "outputId": "9699a720-e286-44b9-f363-5af3758c92cb"
   },
   "outputs": [],
   "source": [
    "rc.take(5)"
   ]
  },
  {
   "cell_type": "code",
   "execution_count": null,
   "metadata": {
    "colab": {
     "base_uri": "https://localhost:8080/",
     "height": 122
    },
    "colab_type": "code",
    "id": "O18Q4dWunzMi",
    "outputId": "743ec165-dfab-49aa-a073-ddef3b68c331"
   },
   "outputs": [],
   "source": [
    "rc.head(5)"
   ]
  },
  {
   "cell_type": "code",
   "execution_count": null,
   "metadata": {
    "colab": {
     "base_uri": "https://localhost:8080/",
     "height": 54
    },
    "colab_type": "code",
    "id": "agpIf3Y4nzQG",
    "outputId": "29a74227-6035-40c8-cba0-6155730b9a47"
   },
   "outputs": [],
   "source": [
    "rc.limit(5)"
   ]
  },
  {
   "cell_type": "markdown",
   "metadata": {
    "colab_type": "text",
    "id": "mI_zYOVpf2yK"
   },
   "source": [
    "## Schemas"
   ]
  },
  {
   "cell_type": "code",
   "execution_count": null,
   "metadata": {
    "colab": {
     "base_uri": "https://localhost:8080/",
     "height": 425
    },
    "colab_type": "code",
    "id": "PeeOFy5cgDRq",
    "outputId": "f693a7fa-faa2-418c-cde5-b38c9e07222f"
   },
   "outputs": [],
   "source": [
    "rc.printSchema()"
   ]
  },
  {
   "cell_type": "code",
   "execution_count": null,
   "metadata": {
    "colab": {},
    "colab_type": "code",
    "id": "qLS_NEpEgDBJ"
   },
   "outputs": [],
   "source": [
    "from pyspark.sql.types import StructField, StructType, StringType, TimestampType, BooleanType, DoubleType, IntegerType"
   ]
  },
  {
   "cell_type": "code",
   "execution_count": null,
   "metadata": {
    "colab": {},
    "colab_type": "code",
    "id": "E7NuMVpygC2h"
   },
   "outputs": [],
   "source": [
    "boolean_labels = ['Domestic']\n",
    "timestamp_labels = ['Date']\n",
    "double_labels = ['Latitude', 'Longitude']\n",
    "int_labels = ['Year']\n",
    "string_labels = list(set(rc.columns) - set(boolean_labels) - set(timestamp_labels) - set(double_labels) - set(int_labels))"
   ]
  },
  {
   "cell_type": "code",
   "execution_count": null,
   "metadata": {
    "colab": {},
    "colab_type": "code",
    "id": "ZltLoVBot7QD"
   },
   "outputs": [],
   "source": [
    "schema = []\n",
    "for x in rc.columns : \n",
    "  if x in boolean_labels: \n",
    "    schema.append(StructField(x, BooleanType(), True))\n",
    "  if x in string_labels: \n",
    "    schema.append(StructField(x, StringType(), True))\n",
    "  if x in int_labels: \n",
    "    schema.append(StructField(x, IntegerType(), True))\n",
    "  if x in double_labels: \n",
    "    schema.append(StructField(x, DoubleType(), True))\n",
    "  if x in timestamp_labels: \n",
    "    schema.append(StructField(x, TimestampType(), True))\n",
    "schema = StructType(schema)"
   ]
  },
  {
   "cell_type": "code",
   "execution_count": null,
   "metadata": {
    "colab": {
     "base_uri": "https://localhost:8080/",
     "height": 425
    },
    "colab_type": "code",
    "id": "T6w6-fN9gG_7",
    "outputId": "6c6d940f-e276-48db-8363-ea4423925271"
   },
   "outputs": [],
   "source": [
    "rc = spark.read.csv('reported-crimes.csv',schema=schema)\n",
    "rc.printSchema()"
   ]
  },
  {
   "cell_type": "code",
   "execution_count": null,
   "metadata": {
    "colab": {
     "base_uri": "https://localhost:8080/",
     "height": 204
    },
    "colab_type": "code",
    "id": "EZMsf6MEwARb",
    "outputId": "4cc3484b-a85d-4c25-96a5-4677e0de24ef"
   },
   "outputs": [],
   "source": [
    "rc.show(5) # we have null values, that means something is wrong with the schema or with data"
   ]
  },
  {
   "cell_type": "code",
   "execution_count": null,
   "metadata": {
    "colab": {
     "base_uri": "https://localhost:8080/",
     "height": 204
    },
    "colab_type": "code",
    "id": "qGiNyoheDKrT",
    "outputId": "1f5a09da-a492-44ff-a294-eec5586c718c"
   },
   "outputs": [],
   "source": [
    "rc.select('ID', 'District').show(5)"
   ]
  },
  {
   "cell_type": "code",
   "execution_count": null,
   "metadata": {
    "colab": {},
    "colab_type": "code",
    "id": "rzJ_sUdIDxyc"
   },
   "outputs": [],
   "source": [
    "rc = rc.withColumnRenamed('Description', 'Desc'); # change column name"
   ]
  },
  {
   "cell_type": "code",
   "execution_count": null,
   "metadata": {
    "colab": {
     "base_uri": "https://localhost:8080/",
     "height": 391
    },
    "colab_type": "code",
    "id": "N63oP2w3Dx1E",
    "outputId": "fb1bac56-90f0-4b0e-cd80-21b364d78f2d"
   },
   "outputs": [],
   "source": [
    "rc.columns"
   ]
  },
  {
   "cell_type": "code",
   "execution_count": null,
   "metadata": {
    "colab": {},
    "colab_type": "code",
    "id": "27UI3kagDx3g"
   },
   "outputs": [],
   "source": [
    "rc_without_ID = rc.drop('ID')"
   ]
  },
  {
   "cell_type": "code",
   "execution_count": null,
   "metadata": {
    "colab": {
     "base_uri": "https://localhost:8080/",
     "height": 374
    },
    "colab_type": "code",
    "id": "mip_wMvbDx6N",
    "outputId": "94790db9-a9fb-4b36-9b20-633f6dbf8ea2"
   },
   "outputs": [],
   "source": [
    "rc_without_ID.columns"
   ]
  }
 ],
 "metadata": {
  "colab": {
   "collapsed_sections": [],
   "include_colab_link": true,
   "name": "schemas.ipynb",
   "provenance": [],
   "version": "0.3.2"
  },
  "hide_input": false,
  "kernelspec": {
   "display_name": "Python 3",
   "language": "python",
   "name": "python3"
  },
  "language_info": {
   "codemirror_mode": {
    "name": "ipython",
    "version": 3
   },
   "file_extension": ".py",
   "mimetype": "text/x-python",
   "name": "python",
   "nbconvert_exporter": "python",
   "pygments_lexer": "ipython3",
   "version": "3.6.8"
  },
  "toc": {
   "base_numbering": 1,
   "nav_menu": {},
   "number_sections": true,
   "sideBar": true,
   "skip_h1_title": false,
   "title_cell": "Table of Contents",
   "title_sidebar": "Contents",
   "toc_cell": false,
   "toc_position": {},
   "toc_section_display": true,
   "toc_window_display": false
  },
  "varInspector": {
   "cols": {
    "lenName": 16,
    "lenType": 16,
    "lenVar": 40
   },
   "kernels_config": {
    "python": {
     "delete_cmd_postfix": "",
     "delete_cmd_prefix": "del ",
     "library": "var_list.py",
     "varRefreshCmd": "print(var_dic_list())"
    },
    "r": {
     "delete_cmd_postfix": ") ",
     "delete_cmd_prefix": "rm(",
     "library": "var_list.r",
     "varRefreshCmd": "cat(var_dic_list()) "
    }
   },
   "types_to_exclude": [
    "module",
    "function",
    "builtin_function_or_method",
    "instance",
    "_Feature"
   ],
   "window_display": false
  }
 },
 "nbformat": 4,
 "nbformat_minor": 1
}
