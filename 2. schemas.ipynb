{
  "nbformat": 4,
  "nbformat_minor": 0,
  "metadata": {
    "colab": {
      "name": "schemas.ipynb",
      "version": "0.3.2",
      "provenance": [],
      "collapsed_sections": [],
      "include_colab_link": true
    },
    "kernelspec": {
      "display_name": "Python 3",
      "language": "python",
      "name": "python3"
    }
  },
  "cells": [
    {
      "cell_type": "markdown",
      "metadata": {
        "id": "view-in-github",
        "colab_type": "text"
      },
      "source": [
        "<a href=\"https://colab.research.google.com/github/absabry/Pyspark-tutorial/blob/master/2.%20schemas.ipynb\" target=\"_parent\"><img src=\"https://colab.research.google.com/assets/colab-badge.svg\" alt=\"Open In Colab\"/></a>"
      ]
    },
    {
      "metadata": {
        "colab_type": "text",
        "id": "8qf-TmnsBgXd"
      },
      "cell_type": "markdown",
      "source": [
        "# Schemas"
      ]
    },
    {
      "metadata": {
        "colab_type": "text",
        "id": "Dd6t0uFzuR4X"
      },
      "cell_type": "markdown",
      "source": [
        "## Download and install Spark"
      ]
    },
    {
      "metadata": {
        "colab_type": "code",
        "id": "zToS5PqxBXpK",
        "colab": {
          "base_uri": "https://localhost:8080/",
          "height": 51
        },
        "outputId": "ad6743e3-901d-4051-bea0-dfe0c8730bc2"
      },
      "cell_type": "code",
      "source": [
        "!ls # we're good, dont need to install"
      ],
      "execution_count": 1,
      "outputs": [
        {
          "output_type": "stream",
          "text": [
            "reported-crimes.csv  spark-2.3.1-bin-hadoop2.7\t    spark-warehouse\n",
            "sample_data\t     spark-2.3.1-bin-hadoop2.7.tgz\n"
          ],
          "name": "stdout"
        }
      ]
    },
    {
      "metadata": {
        "colab_type": "code",
        "id": "tt7ZS1_wGgjn",
        "colab": {}
      },
      "cell_type": "code",
      "source": [
        "#!apt-get update\n",
        "#!apt-get install openjdk-8-jdk-headless -qq > /dev/null\n",
        "#!wget -q http://archive.apache.org/dist/spark/spark-2.3.1/spark-2.3.1-bin-hadoop2.7.tgz\n",
        "#!tar xf spark-2.3.1-bin-hadoop2.7.tgz\n",
        "#!pip install -q findspark"
      ],
      "execution_count": 0,
      "outputs": []
    },
    {
      "metadata": {
        "colab_type": "text",
        "id": "FEuEkV0BlzAD"
      },
      "cell_type": "markdown",
      "source": [
        "## Setup environment"
      ]
    },
    {
      "metadata": {
        "colab_type": "code",
        "id": "sdOOq4twHN1K",
        "colab": {
          "base_uri": "https://localhost:8080/",
          "height": 216
        },
        "outputId": "a3d0026c-5750-4547-fcad-b01a7004dee8"
      },
      "cell_type": "code",
      "source": [
        "import os\n",
        "os.environ[\"JAVA_HOME\"] = \"/usr/lib/jvm/java-8-openjdk-amd64\"\n",
        "os.environ[\"SPARK_HOME\"] = \"/content/spark-2.3.1-bin-hadoop2.7\"\n",
        "\n",
        "import findspark\n",
        "findspark.init()\n",
        "from pyspark import SparkContext\n",
        "sc = SparkContext.getOrCreate()\n",
        "\n",
        "import pyspark\n",
        "from pyspark.sql import SparkSession\n",
        "spark = SparkSession.builder.getOrCreate() \n",
        "spark"
      ],
      "execution_count": 2,
      "outputs": [
        {
          "output_type": "execute_result",
          "data": {
            "text/html": [
              "\n",
              "            <div>\n",
              "                <p><b>SparkSession - in-memory</b></p>\n",
              "                \n",
              "        <div>\n",
              "            <p><b>SparkContext</b></p>\n",
              "\n",
              "            <p><a href=\"http://537b90cc6d42:4042\">Spark UI</a></p>\n",
              "\n",
              "            <dl>\n",
              "              <dt>Version</dt>\n",
              "                <dd><code>v2.3.1</code></dd>\n",
              "              <dt>Master</dt>\n",
              "                <dd><code>local[*]</code></dd>\n",
              "              <dt>AppName</dt>\n",
              "                <dd><code>pyspark-shell</code></dd>\n",
              "            </dl>\n",
              "        </div>\n",
              "        \n",
              "            </div>\n",
              "        "
            ],
            "text/plain": [
              "<pyspark.sql.session.SparkSession at 0x7f2c5958a128>"
            ]
          },
          "metadata": {
            "tags": []
          },
          "execution_count": 2
        }
      ]
    },
    {
      "metadata": {
        "id": "YuuXPh7anBCe",
        "colab_type": "code",
        "colab": {}
      },
      "cell_type": "code",
      "source": [
        "import pandas as pd "
      ],
      "execution_count": 0,
      "outputs": []
    },
    {
      "metadata": {
        "colab_type": "text",
        "id": "0ysUlfFrN5OD"
      },
      "cell_type": "markdown",
      "source": [
        "## Preprocessing Chicago's Reported Crime Data using Pandas and Spark"
      ]
    },
    {
      "metadata": {
        "colab_type": "code",
        "id": "9-1cK0nPNS95",
        "colab": {
          "base_uri": "https://localhost:8080/",
          "height": 224
        },
        "outputId": "f80951f5-e2fb-4a70-d9c5-d12f229da47b"
      },
      "cell_type": "code",
      "source": [
        "from pyspark.sql.functions import to_timestamp,col,lit\n",
        "rc = spark.read.csv('reported-crimes.csv',header=True).withColumn('Date',to_timestamp(col('Date'),'MM/dd/yyyy hh:mm:ss a')).filter(col('Date') <= lit('2018-11-11'))\n",
        "rc.show(5)"
      ],
      "execution_count": 3,
      "outputs": [
        {
          "output_type": "stream",
          "text": [
            "+-------+-----------+-------------------+--------------------+----+-------------------+--------------------+--------------------+------+--------+----+--------+----+--------------+--------+------------+------------+----+--------------------+------------+-------------+--------------------+\n",
            "|     ID|Case Number|               Date|               Block|IUCR|       Primary Type|         Description|Location Description|Arrest|Domestic|Beat|District|Ward|Community Area|FBI Code|X Coordinate|Y Coordinate|Year|          Updated On|    Latitude|    Longitude|            Location|\n",
            "+-------+-----------+-------------------+--------------------+----+-------------------+--------------------+--------------------+------+--------+----+--------+----+--------------+--------+------------+------------+----+--------------------+------------+-------------+--------------------+\n",
            "|5324759|   HM564643|2006-08-27 01:04:34|  029XX N PULASKI RD|1310|    CRIMINAL DAMAGE|         TO PROPERTY|           RESIDENCE| false|   false|2523|     025|  31|            21|      14|     1149217|     1919198|2006|02/28/2018 03:56:...|41.934206478|-87.727044563|(41.934206478, -8...|\n",
            "|5324762|   HN185785|2007-02-19 18:00:00|062XX W CORNELIA AVE|0920|MOTOR VEHICLE THEFT|     ATT: AUTOMOBILE|              STREET| false|   false|1633|     016|  36|            17|      07|     1134118|     1922619|2007|02/28/2018 03:56:...|41.943873678|-87.782453204|(41.943873678, -8...|\n",
            "|5324766|   HN184408|2007-02-19 11:02:12|091XX S UNIVERSIT...|0460|            BATTERY|              SIMPLE|              STREET|  true|   false|0413|     004|   8|            47|     08B|     1185475|     1844606|2007|02/28/2018 03:56:...|41.728740563|-87.596150779|(41.728740563, -8...|\n",
            "|5324767|   HN185514|2007-02-19 23:23:16|   038XX W NORTH AVE|1506|       PROSTITUTION|SOLICIT ON PUBLIC...|              STREET|  true|   false|2535|     025|  30|            23|      16|     1150789|     1910366|2007|02/28/2018 03:56:...|41.909940034|-87.721499025|(41.909940034, -8...|\n",
            "|5324768|   HN184854|2007-02-19 15:30:00|090XX S MARSHFIEL...|0486|            BATTERY|DOMESTIC BATTERY ...|           RESIDENCE| false|    true|2221|     022|  21|            73|     08B|     1166926|     1844740|2007|02/28/2018 03:56:...| 41.72952412|-87.664096049|(41.72952412, -87...|\n",
            "+-------+-----------+-------------------+--------------------+----+-------------------+--------------------+--------------------+------+--------+----+--------+----+--------------+--------+------------+------------+----+--------------------+------------+-------------+--------------------+\n",
            "only showing top 5 rows\n",
            "\n"
          ],
          "name": "stdout"
        }
      ]
    },
    {
      "metadata": {
        "id": "TQFk_YZIm9Ze",
        "colab_type": "code",
        "colab": {}
      },
      "cell_type": "code",
      "source": [
        ""
      ],
      "execution_count": 0,
      "outputs": []
    },
    {
      "metadata": {
        "id": "xM-R4aESm9rW",
        "colab_type": "code",
        "colab": {
          "base_uri": "https://localhost:8080/",
          "height": 352
        },
        "outputId": "b2e14f87-306e-4f6a-b5e1-05553b9d82d7"
      },
      "cell_type": "code",
      "source": [
        "data_pd = pd.read_csv('reported-crimes.csv')\n",
        "data_pd.head()"
      ],
      "execution_count": 6,
      "outputs": [
        {
          "output_type": "execute_result",
          "data": {
            "text/html": [
              "<div>\n",
              "<style scoped>\n",
              "    .dataframe tbody tr th:only-of-type {\n",
              "        vertical-align: middle;\n",
              "    }\n",
              "\n",
              "    .dataframe tbody tr th {\n",
              "        vertical-align: top;\n",
              "    }\n",
              "\n",
              "    .dataframe thead th {\n",
              "        text-align: right;\n",
              "    }\n",
              "</style>\n",
              "<table border=\"1\" class=\"dataframe\">\n",
              "  <thead>\n",
              "    <tr style=\"text-align: right;\">\n",
              "      <th></th>\n",
              "      <th>ID</th>\n",
              "      <th>Case Number</th>\n",
              "      <th>Date</th>\n",
              "      <th>Block</th>\n",
              "      <th>IUCR</th>\n",
              "      <th>Primary Type</th>\n",
              "      <th>Description</th>\n",
              "      <th>Location Description</th>\n",
              "      <th>Arrest</th>\n",
              "      <th>Domestic</th>\n",
              "      <th>...</th>\n",
              "      <th>Ward</th>\n",
              "      <th>Community Area</th>\n",
              "      <th>FBI Code</th>\n",
              "      <th>X Coordinate</th>\n",
              "      <th>Y Coordinate</th>\n",
              "      <th>Year</th>\n",
              "      <th>Updated On</th>\n",
              "      <th>Latitude</th>\n",
              "      <th>Longitude</th>\n",
              "      <th>Location</th>\n",
              "    </tr>\n",
              "  </thead>\n",
              "  <tbody>\n",
              "    <tr>\n",
              "      <th>0</th>\n",
              "      <td>5324759</td>\n",
              "      <td>HM564643</td>\n",
              "      <td>08/27/2006 01:04:34 AM</td>\n",
              "      <td>029XX N PULASKI RD</td>\n",
              "      <td>1310</td>\n",
              "      <td>CRIMINAL DAMAGE</td>\n",
              "      <td>TO PROPERTY</td>\n",
              "      <td>RESIDENCE</td>\n",
              "      <td>False</td>\n",
              "      <td>False</td>\n",
              "      <td>...</td>\n",
              "      <td>31.0</td>\n",
              "      <td>21.0</td>\n",
              "      <td>14</td>\n",
              "      <td>1149217.0</td>\n",
              "      <td>1919198.0</td>\n",
              "      <td>2006</td>\n",
              "      <td>02/28/2018 03:56:25 PM</td>\n",
              "      <td>41.934206</td>\n",
              "      <td>-87.727045</td>\n",
              "      <td>(41.934206478, -87.727044563)</td>\n",
              "    </tr>\n",
              "    <tr>\n",
              "      <th>1</th>\n",
              "      <td>5324762</td>\n",
              "      <td>HN185785</td>\n",
              "      <td>02/19/2007 06:00:00 PM</td>\n",
              "      <td>062XX W CORNELIA AVE</td>\n",
              "      <td>0920</td>\n",
              "      <td>MOTOR VEHICLE THEFT</td>\n",
              "      <td>ATT: AUTOMOBILE</td>\n",
              "      <td>STREET</td>\n",
              "      <td>False</td>\n",
              "      <td>False</td>\n",
              "      <td>...</td>\n",
              "      <td>36.0</td>\n",
              "      <td>17.0</td>\n",
              "      <td>07</td>\n",
              "      <td>1134118.0</td>\n",
              "      <td>1922619.0</td>\n",
              "      <td>2007</td>\n",
              "      <td>02/28/2018 03:56:25 PM</td>\n",
              "      <td>41.943874</td>\n",
              "      <td>-87.782453</td>\n",
              "      <td>(41.943873678, -87.782453204)</td>\n",
              "    </tr>\n",
              "    <tr>\n",
              "      <th>2</th>\n",
              "      <td>5324766</td>\n",
              "      <td>HN184408</td>\n",
              "      <td>02/19/2007 11:02:12 AM</td>\n",
              "      <td>091XX S UNIVERSITY AVE</td>\n",
              "      <td>0460</td>\n",
              "      <td>BATTERY</td>\n",
              "      <td>SIMPLE</td>\n",
              "      <td>STREET</td>\n",
              "      <td>True</td>\n",
              "      <td>False</td>\n",
              "      <td>...</td>\n",
              "      <td>8.0</td>\n",
              "      <td>47.0</td>\n",
              "      <td>08B</td>\n",
              "      <td>1185475.0</td>\n",
              "      <td>1844606.0</td>\n",
              "      <td>2007</td>\n",
              "      <td>02/28/2018 03:56:25 PM</td>\n",
              "      <td>41.728741</td>\n",
              "      <td>-87.596151</td>\n",
              "      <td>(41.728740563, -87.596150779)</td>\n",
              "    </tr>\n",
              "    <tr>\n",
              "      <th>3</th>\n",
              "      <td>5324767</td>\n",
              "      <td>HN185514</td>\n",
              "      <td>02/19/2007 11:23:16 PM</td>\n",
              "      <td>038XX W NORTH AVE</td>\n",
              "      <td>1506</td>\n",
              "      <td>PROSTITUTION</td>\n",
              "      <td>SOLICIT ON PUBLIC WAY</td>\n",
              "      <td>STREET</td>\n",
              "      <td>True</td>\n",
              "      <td>False</td>\n",
              "      <td>...</td>\n",
              "      <td>30.0</td>\n",
              "      <td>23.0</td>\n",
              "      <td>16</td>\n",
              "      <td>1150789.0</td>\n",
              "      <td>1910366.0</td>\n",
              "      <td>2007</td>\n",
              "      <td>02/28/2018 03:56:25 PM</td>\n",
              "      <td>41.909940</td>\n",
              "      <td>-87.721499</td>\n",
              "      <td>(41.909940034, -87.721499025)</td>\n",
              "    </tr>\n",
              "    <tr>\n",
              "      <th>4</th>\n",
              "      <td>5324768</td>\n",
              "      <td>HN184854</td>\n",
              "      <td>02/19/2007 03:30:00 PM</td>\n",
              "      <td>090XX S MARSHFIELD AVE</td>\n",
              "      <td>0486</td>\n",
              "      <td>BATTERY</td>\n",
              "      <td>DOMESTIC BATTERY SIMPLE</td>\n",
              "      <td>RESIDENCE</td>\n",
              "      <td>False</td>\n",
              "      <td>True</td>\n",
              "      <td>...</td>\n",
              "      <td>21.0</td>\n",
              "      <td>73.0</td>\n",
              "      <td>08B</td>\n",
              "      <td>1166926.0</td>\n",
              "      <td>1844740.0</td>\n",
              "      <td>2007</td>\n",
              "      <td>02/28/2018 03:56:25 PM</td>\n",
              "      <td>41.729524</td>\n",
              "      <td>-87.664096</td>\n",
              "      <td>(41.72952412, -87.664096049)</td>\n",
              "    </tr>\n",
              "  </tbody>\n",
              "</table>\n",
              "<p>5 rows × 22 columns</p>\n",
              "</div>"
            ],
            "text/plain": [
              "        ID Case Number                    Date                   Block  IUCR  \\\n",
              "0  5324759    HM564643  08/27/2006 01:04:34 AM      029XX N PULASKI RD  1310   \n",
              "1  5324762    HN185785  02/19/2007 06:00:00 PM    062XX W CORNELIA AVE  0920   \n",
              "2  5324766    HN184408  02/19/2007 11:02:12 AM  091XX S UNIVERSITY AVE  0460   \n",
              "3  5324767    HN185514  02/19/2007 11:23:16 PM       038XX W NORTH AVE  1506   \n",
              "4  5324768    HN184854  02/19/2007 03:30:00 PM  090XX S MARSHFIELD AVE  0486   \n",
              "\n",
              "          Primary Type              Description Location Description  Arrest  \\\n",
              "0      CRIMINAL DAMAGE              TO PROPERTY            RESIDENCE   False   \n",
              "1  MOTOR VEHICLE THEFT          ATT: AUTOMOBILE               STREET   False   \n",
              "2              BATTERY                   SIMPLE               STREET    True   \n",
              "3         PROSTITUTION    SOLICIT ON PUBLIC WAY               STREET    True   \n",
              "4              BATTERY  DOMESTIC BATTERY SIMPLE            RESIDENCE   False   \n",
              "\n",
              "   Domestic              ...                Ward  Community Area  FBI Code  \\\n",
              "0     False              ...                31.0            21.0        14   \n",
              "1     False              ...                36.0            17.0        07   \n",
              "2     False              ...                 8.0            47.0       08B   \n",
              "3     False              ...                30.0            23.0        16   \n",
              "4      True              ...                21.0            73.0       08B   \n",
              "\n",
              "   X Coordinate Y Coordinate  Year              Updated On   Latitude  \\\n",
              "0     1149217.0    1919198.0  2006  02/28/2018 03:56:25 PM  41.934206   \n",
              "1     1134118.0    1922619.0  2007  02/28/2018 03:56:25 PM  41.943874   \n",
              "2     1185475.0    1844606.0  2007  02/28/2018 03:56:25 PM  41.728741   \n",
              "3     1150789.0    1910366.0  2007  02/28/2018 03:56:25 PM  41.909940   \n",
              "4     1166926.0    1844740.0  2007  02/28/2018 03:56:25 PM  41.729524   \n",
              "\n",
              "   Longitude                       Location  \n",
              "0 -87.727045  (41.934206478, -87.727044563)  \n",
              "1 -87.782453  (41.943873678, -87.782453204)  \n",
              "2 -87.596151  (41.728740563, -87.596150779)  \n",
              "3 -87.721499  (41.909940034, -87.721499025)  \n",
              "4 -87.664096   (41.72952412, -87.664096049)  \n",
              "\n",
              "[5 rows x 22 columns]"
            ]
          },
          "metadata": {
            "tags": []
          },
          "execution_count": 6
        }
      ]
    },
    {
      "metadata": {
        "id": "7FKdw9oEn4Nz",
        "colab_type": "text"
      },
      "cell_type": "markdown",
      "source": [
        "#### Trying different ways of getting data from spark dataframe"
      ]
    },
    {
      "metadata": {
        "id": "797mJmHum9uF",
        "colab_type": "code",
        "colab": {
          "base_uri": "https://localhost:8080/",
          "height": 122
        },
        "outputId": "9699a720-e286-44b9-f363-5af3758c92cb"
      },
      "cell_type": "code",
      "source": [
        "rc.take(5)"
      ],
      "execution_count": 7,
      "outputs": [
        {
          "output_type": "execute_result",
          "data": {
            "text/plain": [
              "[Row(ID='5324759', Case Number='HM564643', Date=datetime.datetime(2006, 8, 27, 1, 4, 34), Block='029XX N PULASKI RD', IUCR='1310', Primary Type='CRIMINAL DAMAGE', Description='TO PROPERTY', Location Description='RESIDENCE', Arrest='false', Domestic='false', Beat='2523', District='025', Ward='31', Community Area='21', FBI Code='14', X Coordinate='1149217', Y Coordinate='1919198', Year='2006', Updated On='02/28/2018 03:56:25 PM', Latitude='41.934206478', Longitude='-87.727044563', Location='(41.934206478, -87.727044563)'),\n",
              " Row(ID='5324762', Case Number='HN185785', Date=datetime.datetime(2007, 2, 19, 18, 0), Block='062XX W CORNELIA AVE', IUCR='0920', Primary Type='MOTOR VEHICLE THEFT', Description='ATT: AUTOMOBILE', Location Description='STREET', Arrest='false', Domestic='false', Beat='1633', District='016', Ward='36', Community Area='17', FBI Code='07', X Coordinate='1134118', Y Coordinate='1922619', Year='2007', Updated On='02/28/2018 03:56:25 PM', Latitude='41.943873678', Longitude='-87.782453204', Location='(41.943873678, -87.782453204)'),\n",
              " Row(ID='5324766', Case Number='HN184408', Date=datetime.datetime(2007, 2, 19, 11, 2, 12), Block='091XX S UNIVERSITY AVE', IUCR='0460', Primary Type='BATTERY', Description='SIMPLE', Location Description='STREET', Arrest='true', Domestic='false', Beat='0413', District='004', Ward='8', Community Area='47', FBI Code='08B', X Coordinate='1185475', Y Coordinate='1844606', Year='2007', Updated On='02/28/2018 03:56:25 PM', Latitude='41.728740563', Longitude='-87.596150779', Location='(41.728740563, -87.596150779)'),\n",
              " Row(ID='5324767', Case Number='HN185514', Date=datetime.datetime(2007, 2, 19, 23, 23, 16), Block='038XX W NORTH AVE', IUCR='1506', Primary Type='PROSTITUTION', Description='SOLICIT ON PUBLIC WAY', Location Description='STREET', Arrest='true', Domestic='false', Beat='2535', District='025', Ward='30', Community Area='23', FBI Code='16', X Coordinate='1150789', Y Coordinate='1910366', Year='2007', Updated On='02/28/2018 03:56:25 PM', Latitude='41.909940034', Longitude='-87.721499025', Location='(41.909940034, -87.721499025)'),\n",
              " Row(ID='5324768', Case Number='HN184854', Date=datetime.datetime(2007, 2, 19, 15, 30), Block='090XX S MARSHFIELD AVE', IUCR='0486', Primary Type='BATTERY', Description='DOMESTIC BATTERY SIMPLE', Location Description='RESIDENCE', Arrest='false', Domestic='true', Beat='2221', District='022', Ward='21', Community Area='73', FBI Code='08B', X Coordinate='1166926', Y Coordinate='1844740', Year='2007', Updated On='02/28/2018 03:56:25 PM', Latitude='41.72952412', Longitude='-87.664096049', Location='(41.72952412, -87.664096049)')]"
            ]
          },
          "metadata": {
            "tags": []
          },
          "execution_count": 7
        }
      ]
    },
    {
      "metadata": {
        "id": "O18Q4dWunzMi",
        "colab_type": "code",
        "colab": {
          "base_uri": "https://localhost:8080/",
          "height": 122
        },
        "outputId": "743ec165-dfab-49aa-a073-ddef3b68c331"
      },
      "cell_type": "code",
      "source": [
        "rc.head(5)"
      ],
      "execution_count": 8,
      "outputs": [
        {
          "output_type": "execute_result",
          "data": {
            "text/plain": [
              "[Row(ID='5324759', Case Number='HM564643', Date=datetime.datetime(2006, 8, 27, 1, 4, 34), Block='029XX N PULASKI RD', IUCR='1310', Primary Type='CRIMINAL DAMAGE', Description='TO PROPERTY', Location Description='RESIDENCE', Arrest='false', Domestic='false', Beat='2523', District='025', Ward='31', Community Area='21', FBI Code='14', X Coordinate='1149217', Y Coordinate='1919198', Year='2006', Updated On='02/28/2018 03:56:25 PM', Latitude='41.934206478', Longitude='-87.727044563', Location='(41.934206478, -87.727044563)'),\n",
              " Row(ID='5324762', Case Number='HN185785', Date=datetime.datetime(2007, 2, 19, 18, 0), Block='062XX W CORNELIA AVE', IUCR='0920', Primary Type='MOTOR VEHICLE THEFT', Description='ATT: AUTOMOBILE', Location Description='STREET', Arrest='false', Domestic='false', Beat='1633', District='016', Ward='36', Community Area='17', FBI Code='07', X Coordinate='1134118', Y Coordinate='1922619', Year='2007', Updated On='02/28/2018 03:56:25 PM', Latitude='41.943873678', Longitude='-87.782453204', Location='(41.943873678, -87.782453204)'),\n",
              " Row(ID='5324766', Case Number='HN184408', Date=datetime.datetime(2007, 2, 19, 11, 2, 12), Block='091XX S UNIVERSITY AVE', IUCR='0460', Primary Type='BATTERY', Description='SIMPLE', Location Description='STREET', Arrest='true', Domestic='false', Beat='0413', District='004', Ward='8', Community Area='47', FBI Code='08B', X Coordinate='1185475', Y Coordinate='1844606', Year='2007', Updated On='02/28/2018 03:56:25 PM', Latitude='41.728740563', Longitude='-87.596150779', Location='(41.728740563, -87.596150779)'),\n",
              " Row(ID='5324767', Case Number='HN185514', Date=datetime.datetime(2007, 2, 19, 23, 23, 16), Block='038XX W NORTH AVE', IUCR='1506', Primary Type='PROSTITUTION', Description='SOLICIT ON PUBLIC WAY', Location Description='STREET', Arrest='true', Domestic='false', Beat='2535', District='025', Ward='30', Community Area='23', FBI Code='16', X Coordinate='1150789', Y Coordinate='1910366', Year='2007', Updated On='02/28/2018 03:56:25 PM', Latitude='41.909940034', Longitude='-87.721499025', Location='(41.909940034, -87.721499025)'),\n",
              " Row(ID='5324768', Case Number='HN184854', Date=datetime.datetime(2007, 2, 19, 15, 30), Block='090XX S MARSHFIELD AVE', IUCR='0486', Primary Type='BATTERY', Description='DOMESTIC BATTERY SIMPLE', Location Description='RESIDENCE', Arrest='false', Domestic='true', Beat='2221', District='022', Ward='21', Community Area='73', FBI Code='08B', X Coordinate='1166926', Y Coordinate='1844740', Year='2007', Updated On='02/28/2018 03:56:25 PM', Latitude='41.72952412', Longitude='-87.664096049', Location='(41.72952412, -87.664096049)')]"
            ]
          },
          "metadata": {
            "tags": []
          },
          "execution_count": 8
        }
      ]
    },
    {
      "metadata": {
        "id": "agpIf3Y4nzQG",
        "colab_type": "code",
        "colab": {
          "base_uri": "https://localhost:8080/",
          "height": 54
        },
        "outputId": "29a74227-6035-40c8-cba0-6155730b9a47"
      },
      "cell_type": "code",
      "source": [
        "rc.limit(5)"
      ],
      "execution_count": 9,
      "outputs": [
        {
          "output_type": "execute_result",
          "data": {
            "text/plain": [
              "DataFrame[ID: string, Case Number: string, Date: timestamp, Block: string, IUCR: string, Primary Type: string, Description: string, Location Description: string, Arrest: string, Domestic: string, Beat: string, District: string, Ward: string, Community Area: string, FBI Code: string, X Coordinate: string, Y Coordinate: string, Year: string, Updated On: string, Latitude: string, Longitude: string, Location: string]"
            ]
          },
          "metadata": {
            "tags": []
          },
          "execution_count": 9
        }
      ]
    },
    {
      "metadata": {
        "colab_type": "text",
        "id": "mI_zYOVpf2yK"
      },
      "cell_type": "markdown",
      "source": [
        "## Schemas"
      ]
    },
    {
      "metadata": {
        "colab_type": "code",
        "id": "PeeOFy5cgDRq",
        "colab": {
          "base_uri": "https://localhost:8080/",
          "height": 425
        },
        "outputId": "f693a7fa-faa2-418c-cde5-b38c9e07222f"
      },
      "cell_type": "code",
      "source": [
        "rc.printSchema()"
      ],
      "execution_count": 10,
      "outputs": [
        {
          "output_type": "stream",
          "text": [
            "root\n",
            " |-- ID: string (nullable = true)\n",
            " |-- Case Number: string (nullable = true)\n",
            " |-- Date: timestamp (nullable = true)\n",
            " |-- Block: string (nullable = true)\n",
            " |-- IUCR: string (nullable = true)\n",
            " |-- Primary Type: string (nullable = true)\n",
            " |-- Description: string (nullable = true)\n",
            " |-- Location Description: string (nullable = true)\n",
            " |-- Arrest: string (nullable = true)\n",
            " |-- Domestic: string (nullable = true)\n",
            " |-- Beat: string (nullable = true)\n",
            " |-- District: string (nullable = true)\n",
            " |-- Ward: string (nullable = true)\n",
            " |-- Community Area: string (nullable = true)\n",
            " |-- FBI Code: string (nullable = true)\n",
            " |-- X Coordinate: string (nullable = true)\n",
            " |-- Y Coordinate: string (nullable = true)\n",
            " |-- Year: string (nullable = true)\n",
            " |-- Updated On: string (nullable = true)\n",
            " |-- Latitude: string (nullable = true)\n",
            " |-- Longitude: string (nullable = true)\n",
            " |-- Location: string (nullable = true)\n",
            "\n"
          ],
          "name": "stdout"
        }
      ]
    },
    {
      "metadata": {
        "colab_type": "code",
        "id": "qLS_NEpEgDBJ",
        "colab": {}
      },
      "cell_type": "code",
      "source": [
        "from pyspark.sql.types import StructField, StructType, StringType, TimestampType, BooleanType, DoubleType, IntegerType"
      ],
      "execution_count": 0,
      "outputs": []
    },
    {
      "metadata": {
        "colab_type": "code",
        "id": "E7NuMVpygC2h",
        "colab": {}
      },
      "cell_type": "code",
      "source": [
        "boolean_labels = ['Domestic']\n",
        "timestamp_labels = ['Date']\n",
        "double_labels = ['Latitude', 'Longitude']\n",
        "int_labels = ['Year']\n",
        "string_labels = list(set(rc.columns) - set(boolean_labels) - set(timestamp_labels) - set(double_labels) - set(int_labels))"
      ],
      "execution_count": 0,
      "outputs": []
    },
    {
      "metadata": {
        "id": "ZltLoVBot7QD",
        "colab_type": "code",
        "colab": {}
      },
      "cell_type": "code",
      "source": [
        "schema = []\n",
        "for x in rc.columns : \n",
        "  if x in boolean_labels: \n",
        "    schema.append(StructField(x, BooleanType(), True))\n",
        "  if x in string_labels: \n",
        "    schema.append(StructField(x, StringType(), True))\n",
        "  if x in int_labels: \n",
        "    schema.append(StructField(x, IntegerType(), True))\n",
        "  if x in double_labels: \n",
        "    schema.append(StructField(x, DoubleType(), True))\n",
        "  if x in timestamp_labels: \n",
        "    schema.append(StructField(x, TimestampType(), True))\n",
        "schema = StructType(schema)"
      ],
      "execution_count": 0,
      "outputs": []
    },
    {
      "metadata": {
        "colab_type": "code",
        "id": "T6w6-fN9gG_7",
        "colab": {
          "base_uri": "https://localhost:8080/",
          "height": 425
        },
        "outputId": "6c6d940f-e276-48db-8363-ea4423925271"
      },
      "cell_type": "code",
      "source": [
        "rc = spark.read.csv('reported-crimes.csv',schema=schema)\n",
        "rc.printSchema()"
      ],
      "execution_count": 40,
      "outputs": [
        {
          "output_type": "stream",
          "text": [
            "root\n",
            " |-- ID: string (nullable = true)\n",
            " |-- Case Number: string (nullable = true)\n",
            " |-- Date: timestamp (nullable = true)\n",
            " |-- Block: string (nullable = true)\n",
            " |-- IUCR: string (nullable = true)\n",
            " |-- Primary Type: string (nullable = true)\n",
            " |-- Description: string (nullable = true)\n",
            " |-- Location Description: string (nullable = true)\n",
            " |-- Arrest: string (nullable = true)\n",
            " |-- Domestic: boolean (nullable = true)\n",
            " |-- Beat: string (nullable = true)\n",
            " |-- District: string (nullable = true)\n",
            " |-- Ward: string (nullable = true)\n",
            " |-- Community Area: string (nullable = true)\n",
            " |-- FBI Code: string (nullable = true)\n",
            " |-- X Coordinate: string (nullable = true)\n",
            " |-- Y Coordinate: string (nullable = true)\n",
            " |-- Year: integer (nullable = true)\n",
            " |-- Updated On: string (nullable = true)\n",
            " |-- Latitude: double (nullable = true)\n",
            " |-- Longitude: double (nullable = true)\n",
            " |-- Location: string (nullable = true)\n",
            "\n"
          ],
          "name": "stdout"
        }
      ]
    },
    {
      "metadata": {
        "id": "EZMsf6MEwARb",
        "colab_type": "code",
        "colab": {
          "base_uri": "https://localhost:8080/",
          "height": 204
        },
        "outputId": "4cc3484b-a85d-4c25-96a5-4677e0de24ef"
      },
      "cell_type": "code",
      "source": [
        "rc.show(5) # we have null values, that means something is wrong with the schema or with data"
      ],
      "execution_count": 41,
      "outputs": [
        {
          "output_type": "stream",
          "text": [
            "+----+-----------+----+-----+----+------------+-----------+--------------------+------+--------+----+--------+----+--------------+--------+------------+------------+----+----------+--------+---------+--------+\n",
            "|  ID|Case Number|Date|Block|IUCR|Primary Type|Description|Location Description|Arrest|Domestic|Beat|District|Ward|Community Area|FBI Code|X Coordinate|Y Coordinate|Year|Updated On|Latitude|Longitude|Location|\n",
            "+----+-----------+----+-----+----+------------+-----------+--------------------+------+--------+----+--------+----+--------------+--------+------------+------------+----+----------+--------+---------+--------+\n",
            "|null|       null|null| null|null|        null|       null|                null|  null|    null|null|    null|null|          null|    null|        null|        null|null|      null|    null|     null|    null|\n",
            "|null|       null|null| null|null|        null|       null|                null|  null|    null|null|    null|null|          null|    null|        null|        null|null|      null|    null|     null|    null|\n",
            "|null|       null|null| null|null|        null|       null|                null|  null|    null|null|    null|null|          null|    null|        null|        null|null|      null|    null|     null|    null|\n",
            "|null|       null|null| null|null|        null|       null|                null|  null|    null|null|    null|null|          null|    null|        null|        null|null|      null|    null|     null|    null|\n",
            "|null|       null|null| null|null|        null|       null|                null|  null|    null|null|    null|null|          null|    null|        null|        null|null|      null|    null|     null|    null|\n",
            "+----+-----------+----+-----+----+------------+-----------+--------------------+------+--------+----+--------+----+--------------+--------+------------+------------+----+----------+--------+---------+--------+\n",
            "only showing top 5 rows\n",
            "\n"
          ],
          "name": "stdout"
        }
      ]
    },
    {
      "metadata": {
        "id": "qGiNyoheDKrT",
        "colab_type": "code",
        "colab": {
          "base_uri": "https://localhost:8080/",
          "height": 204
        },
        "outputId": "1f5a09da-a492-44ff-a294-eec5586c718c"
      },
      "cell_type": "code",
      "source": [
        "rc.select('ID', 'District').show(5)"
      ],
      "execution_count": 42,
      "outputs": [
        {
          "output_type": "stream",
          "text": [
            "+-------+--------+\n",
            "|     ID|District|\n",
            "+-------+--------+\n",
            "|     ID|District|\n",
            "|5324759|     025|\n",
            "|5324762|     016|\n",
            "|5324766|     004|\n",
            "|5324767|     025|\n",
            "+-------+--------+\n",
            "only showing top 5 rows\n",
            "\n"
          ],
          "name": "stdout"
        }
      ]
    },
    {
      "metadata": {
        "id": "rzJ_sUdIDxyc",
        "colab_type": "code",
        "colab": {}
      },
      "cell_type": "code",
      "source": [
        "rc = rc.withColumnRenamed('Description', 'Desc'); # change column name"
      ],
      "execution_count": 0,
      "outputs": []
    },
    {
      "metadata": {
        "id": "N63oP2w3Dx1E",
        "colab_type": "code",
        "colab": {
          "base_uri": "https://localhost:8080/",
          "height": 391
        },
        "outputId": "fb1bac56-90f0-4b0e-cd80-21b364d78f2d"
      },
      "cell_type": "code",
      "source": [
        "rc.columns"
      ],
      "execution_count": 47,
      "outputs": [
        {
          "output_type": "execute_result",
          "data": {
            "text/plain": [
              "['ID',\n",
              " 'Case Number',\n",
              " 'Date',\n",
              " 'Block',\n",
              " 'IUCR',\n",
              " 'Primary Type',\n",
              " 'Desc',\n",
              " 'Location Description',\n",
              " 'Arrest',\n",
              " 'Domestic',\n",
              " 'Beat',\n",
              " 'District',\n",
              " 'Ward',\n",
              " 'Community Area',\n",
              " 'FBI Code',\n",
              " 'X Coordinate',\n",
              " 'Y Coordinate',\n",
              " 'Year',\n",
              " 'Updated On',\n",
              " 'Latitude',\n",
              " 'Longitude',\n",
              " 'Location']"
            ]
          },
          "metadata": {
            "tags": []
          },
          "execution_count": 47
        }
      ]
    },
    {
      "metadata": {
        "id": "27UI3kagDx3g",
        "colab_type": "code",
        "colab": {}
      },
      "cell_type": "code",
      "source": [
        "rc_without_ID = rc.drop('ID')"
      ],
      "execution_count": 0,
      "outputs": []
    },
    {
      "metadata": {
        "id": "mip_wMvbDx6N",
        "colab_type": "code",
        "colab": {
          "base_uri": "https://localhost:8080/",
          "height": 374
        },
        "outputId": "94790db9-a9fb-4b36-9b20-633f6dbf8ea2"
      },
      "cell_type": "code",
      "source": [
        "rc_without_ID.columns"
      ],
      "execution_count": 49,
      "outputs": [
        {
          "output_type": "execute_result",
          "data": {
            "text/plain": [
              "['Case Number',\n",
              " 'Date',\n",
              " 'Block',\n",
              " 'IUCR',\n",
              " 'Primary Type',\n",
              " 'Desc',\n",
              " 'Location Description',\n",
              " 'Arrest',\n",
              " 'Domestic',\n",
              " 'Beat',\n",
              " 'District',\n",
              " 'Ward',\n",
              " 'Community Area',\n",
              " 'FBI Code',\n",
              " 'X Coordinate',\n",
              " 'Y Coordinate',\n",
              " 'Year',\n",
              " 'Updated On',\n",
              " 'Latitude',\n",
              " 'Longitude',\n",
              " 'Location']"
            ]
          },
          "metadata": {
            "tags": []
          },
          "execution_count": 49
        }
      ]
    }
  ]
}