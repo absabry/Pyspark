{
 "cells": [
  {
   "cell_type": "markdown",
   "metadata": {
    "colab_type": "text",
    "id": "8qf-TmnsBgXd"
   },
   "source": [
    "# RDDs"
   ]
  },
  {
   "cell_type": "markdown",
   "metadata": {
    "colab_type": "text",
    "id": "Dd6t0uFzuR4X"
   },
   "source": [
    "## Check for JAVA_HOME"
   ]
  },
  {
   "cell_type": "code",
   "execution_count": 1,
   "metadata": {
    "ExecuteTime": {
     "end_time": "2019-03-11T20:13:23.877859Z",
     "start_time": "2019-03-11T20:13:23.873118Z"
    },
    "colab": {},
    "colab_type": "code",
    "id": "zToS5PqxBXpK"
   },
   "outputs": [
    {
     "name": "stdout",
     "output_type": "stream",
     "text": [
      "/Library/Java/JavaVirtualMachines/jdk1.8.0_202.jdk/Contents/Home\n"
     ]
    }
   ],
   "source": [
    "import os\n",
    "print(os.getenv(\"JAVA_HOME\")) # check for the correct java version (should be 1.8 for using spark)"
   ]
  },
  {
   "cell_type": "markdown",
   "metadata": {
    "colab_type": "text",
    "id": "FEuEkV0BlzAD"
   },
   "source": [
    "## Setup environment"
   ]
  },
  {
   "cell_type": "code",
   "execution_count": 2,
   "metadata": {
    "ExecuteTime": {
     "end_time": "2019-03-11T20:13:31.351580Z",
     "start_time": "2019-03-11T20:13:26.564775Z"
    },
    "colab": {},
    "colab_type": "code",
    "id": "sdOOq4twHN1K"
   },
   "outputs": [],
   "source": [
    "import findspark\n",
    "findspark.init()\n",
    "from pyspark import SparkContext\n",
    "sc = SparkContext.getOrCreate()\n",
    "\n",
    "import pyspark\n",
    "from pyspark.sql import SparkSession\n",
    "spark = SparkSession.builder.getOrCreate() "
   ]
  },
  {
   "cell_type": "code",
   "execution_count": 3,
   "metadata": {
    "ExecuteTime": {
     "end_time": "2019-03-11T20:13:36.945607Z",
     "start_time": "2019-03-11T20:13:31.369171Z"
    },
    "colab": {},
    "colab_type": "code",
    "id": "v4P5mMONYyVd"
   },
   "outputs": [],
   "source": [
    "from pyspark.sql.functions import to_timestamp,col\n",
    "ps = spark.read.csv('Police_Stations.csv',header=True)\n",
    "\n",
    "# same using RDDs \n",
    "ps_rdd = sc.textFile('Police_Stations.csv')"
   ]
  },
  {
   "cell_type": "code",
   "execution_count": 4,
   "metadata": {
    "ExecuteTime": {
     "end_time": "2019-03-11T20:13:40.855402Z",
     "start_time": "2019-03-11T20:13:40.072522Z"
    }
   },
   "outputs": [
    {
     "data": {
      "text/plain": [
       "'DISTRICT,DISTRICT NAME,ADDRESS,CITY,STATE,ZIP,WEBSITE,PHONE,FAX,TTY,X COORDINATE,Y COORDINATE,LATITUDE,LONGITUDE,LOCATION'"
      ]
     },
     "execution_count": 4,
     "metadata": {},
     "output_type": "execute_result"
    }
   ],
   "source": [
    "ps_rdd.first() # that's the header "
   ]
  },
  {
   "cell_type": "code",
   "execution_count": 5,
   "metadata": {
    "ExecuteTime": {
     "end_time": "2019-03-11T20:13:43.186424Z",
     "start_time": "2019-03-11T20:13:43.136790Z"
    }
   },
   "outputs": [],
   "source": [
    "ps_rdd_header = ps_rdd.first() "
   ]
  },
  {
   "cell_type": "code",
   "execution_count": 6,
   "metadata": {
    "ExecuteTime": {
     "end_time": "2019-03-11T20:13:45.393438Z",
     "start_time": "2019-03-11T20:13:45.341734Z"
    }
   },
   "outputs": [
    {
     "data": {
      "text/plain": [
       "'1,Central,1718 S State St,Chicago,IL,60616,http://home.chicagopolice.org/community/districts/1st-district-central/,312-745-4290,312-745-3694,312-745-3693,1176569.052,1891771.704,41.85837259,-87.62735617,\"(41.8583725929, -87.627356171)\"'"
      ]
     },
     "execution_count": 6,
     "metadata": {},
     "output_type": "execute_result"
    }
   ],
   "source": [
    "# rest \n",
    "ps_rdd_rest = ps_rdd.filter(lambda x: x != ps_rdd_header)\n",
    "ps_rdd_rest.first() # first element of the dataset (RDD)"
   ]
  },
  {
   "cell_type": "code",
   "execution_count": 6,
   "metadata": {
    "ExecuteTime": {
     "end_time": "2019-03-10T00:38:46.708820Z",
     "start_time": "2019-03-10T00:38:46.700988Z"
    }
   },
   "outputs": [
    {
     "data": {
      "text/plain": [
       "['DISTRICT',\n",
       " 'DISTRICT NAME',\n",
       " 'ADDRESS',\n",
       " 'CITY',\n",
       " 'STATE',\n",
       " 'ZIP',\n",
       " 'WEBSITE',\n",
       " 'PHONE',\n",
       " 'FAX',\n",
       " 'TTY',\n",
       " 'X COORDINATE',\n",
       " 'Y COORDINATE',\n",
       " 'LATITUDE',\n",
       " 'LONGITUDE',\n",
       " 'LOCATION']"
      ]
     },
     "execution_count": 6,
     "metadata": {},
     "output_type": "execute_result"
    }
   ],
   "source": [
    "ps.columns"
   ]
  },
  {
   "cell_type": "markdown",
   "metadata": {
    "colab_type": "text",
    "id": "ShYgMK6jPsSt"
   },
   "source": [
    "**How many police stations are there?**"
   ]
  },
  {
   "cell_type": "code",
   "execution_count": 7,
   "metadata": {
    "ExecuteTime": {
     "end_time": "2019-03-11T20:13:55.561591Z",
     "start_time": "2019-03-11T20:13:55.130706Z"
    },
    "colab": {},
    "colab_type": "code",
    "id": "2FbZPk84Pwxc"
   },
   "outputs": [
    {
     "data": {
      "text/plain": [
       "24"
      ]
     },
     "execution_count": 7,
     "metadata": {},
     "output_type": "execute_result"
    }
   ],
   "source": [
    "ps.count()"
   ]
  },
  {
   "cell_type": "code",
   "execution_count": 16,
   "metadata": {
    "ExecuteTime": {
     "end_time": "2019-03-11T20:16:14.341583Z",
     "start_time": "2019-03-11T20:16:14.290539Z"
    }
   },
   "outputs": [
    {
     "data": {
      "text/plain": [
       "24"
      ]
     },
     "execution_count": 16,
     "metadata": {},
     "output_type": "execute_result"
    }
   ],
   "source": [
    "# RDDs way \n",
    "ps_rdd_rest.map(lambda x: x.split(',')) # thats all the cells, each cell on a array\n",
    "ps_rdd_rest.map(lambda x: x.split(',')).count() # we can count array number to get that"
   ]
  },
  {
   "cell_type": "markdown",
   "metadata": {
    "colab_type": "text",
    "id": "WKYiypY0MbJ1"
   },
   "source": [
    "**Display the District ID, District name, Address and Zip for the police station with District ID 7**\n",
    "\n"
   ]
  },
  {
   "cell_type": "code",
   "execution_count": 9,
   "metadata": {
    "ExecuteTime": {
     "end_time": "2019-03-10T00:40:54.156599Z",
     "start_time": "2019-03-10T00:40:53.847655Z"
    },
    "colab": {},
    "colab_type": "code",
    "id": "JkUF4yJFgG25"
   },
   "outputs": [
    {
     "name": "stdout",
     "output_type": "stream",
     "text": [
      "+--------+-------------+--------------+-----+\n",
      "|DISTRICT|DISTRICT NAME|       ADDRESS|  ZIP|\n",
      "+--------+-------------+--------------+-----+\n",
      "|       7|    Englewood|1438 W 63rd St|60636|\n",
      "+--------+-------------+--------------+-----+\n",
      "\n"
     ]
    }
   ],
   "source": [
    "ps.filter(col('DISTRICT')==7).select('DISTRICT', 'DISTRICT NAME','ADDRESS','ZIP').show()"
   ]
  },
  {
   "cell_type": "code",
   "execution_count": 20,
   "metadata": {
    "ExecuteTime": {
     "end_time": "2019-03-11T20:16:52.564059Z",
     "start_time": "2019-03-11T20:16:52.499540Z"
    }
   },
   "outputs": [
    {
     "data": {
      "text/plain": [
       "[('7', 'Englewood', '1438 W 63rd St', '60636')]"
      ]
     },
     "execution_count": 20,
     "metadata": {},
     "output_type": "execute_result"
    }
   ],
   "source": [
    "# RDDs way \n",
    "(\n",
    "    ps_rdd_rest.filter(lambda x: x.split(',')[0] == '7').\n",
    "    map(lambda line : (\n",
    "        line.split(\",\")[0], \n",
    "        line.split(\",\")[1], \n",
    "        line.split(\",\")[2], \n",
    "        line.split(\",\")[5]\n",
    "    )\n",
    "       ).collect()\n",
    ")"
   ]
  },
  {
   "cell_type": "markdown",
   "metadata": {
    "colab_type": "text",
    "id": "1mWxQg2mN4W7"
   },
   "source": [
    "**Police stations 10 and 11 are geographically close to each other. Display the District ID, District name, address and zip code**"
   ]
  },
  {
   "cell_type": "code",
   "execution_count": 15,
   "metadata": {
    "ExecuteTime": {
     "end_time": "2019-03-10T00:43:05.651520Z",
     "start_time": "2019-03-10T00:43:05.436548Z"
    },
    "colab": {},
    "colab_type": "code",
    "id": "9DiIzEr-Gadn"
   },
   "outputs": [
    {
     "name": "stdout",
     "output_type": "stream",
     "text": [
      "+--------+-------------+------------------+-----+\n",
      "|DISTRICT|DISTRICT NAME|           ADDRESS|  ZIP|\n",
      "+--------+-------------+------------------+-----+\n",
      "|      10|        Ogden|  3315 W Ogden Ave|60623|\n",
      "|      11|     Harrison|3151 W Harrison St|60612|\n",
      "+--------+-------------+------------------+-----+\n",
      "\n"
     ]
    }
   ],
   "source": [
    "ps.filter(col('DISTRICT').isin([10,11])).select('DISTRICT', 'DISTRICT NAME','ADDRESS','ZIP').show()"
   ]
  },
  {
   "cell_type": "code",
   "execution_count": 21,
   "metadata": {
    "ExecuteTime": {
     "end_time": "2019-03-11T20:16:58.125760Z",
     "start_time": "2019-03-11T20:16:58.076958Z"
    }
   },
   "outputs": [
    {
     "data": {
      "text/plain": [
       "[('10', 'Ogden', '3315 W Ogden Ave', '60623'),\n",
       " ('11', 'Harrison', '3151 W Harrison St', '60612')]"
      ]
     },
     "execution_count": 21,
     "metadata": {},
     "output_type": "execute_result"
    }
   ],
   "source": [
    "# RDDs way \n",
    "(\n",
    "    ps_rdd_rest.filter(lambda x: x.split(',')[0] in ['10','11']).\n",
    "    map(lambda line : (\n",
    "        line.split(\",\")[0], \n",
    "        line.split(\",\")[1], \n",
    "        line.split(\",\")[2], \n",
    "        line.split(\",\")[5]\n",
    "    )\n",
    "       ).collect()\n",
    ")"
   ]
  }
 ],
 "metadata": {
  "colab": {
   "name": "RDDs.ipynb",
   "provenance": [],
   "version": "0.3.2"
  },
  "hide_input": false,
  "kernelspec": {
   "display_name": "Python 3",
   "language": "python",
   "name": "python3"
  },
  "language_info": {
   "codemirror_mode": {
    "name": "ipython",
    "version": 3
   },
   "file_extension": ".py",
   "mimetype": "text/x-python",
   "name": "python",
   "nbconvert_exporter": "python",
   "pygments_lexer": "ipython3",
   "version": "3.6.8"
  },
  "toc": {
   "base_numbering": 1,
   "nav_menu": {},
   "number_sections": true,
   "sideBar": true,
   "skip_h1_title": false,
   "title_cell": "Table of Contents",
   "title_sidebar": "Contents",
   "toc_cell": false,
   "toc_position": {},
   "toc_section_display": true,
   "toc_window_display": false
  },
  "varInspector": {
   "cols": {
    "lenName": 16,
    "lenType": 16,
    "lenVar": 40
   },
   "kernels_config": {
    "python": {
     "delete_cmd_postfix": "",
     "delete_cmd_prefix": "del ",
     "library": "var_list.py",
     "varRefreshCmd": "print(var_dic_list())"
    },
    "r": {
     "delete_cmd_postfix": ") ",
     "delete_cmd_prefix": "rm(",
     "library": "var_list.r",
     "varRefreshCmd": "cat(var_dic_list()) "
    }
   },
   "types_to_exclude": [
    "module",
    "function",
    "builtin_function_or_method",
    "instance",
    "_Feature"
   ],
   "window_display": false
  }
 },
 "nbformat": 4,
 "nbformat_minor": 2
}
